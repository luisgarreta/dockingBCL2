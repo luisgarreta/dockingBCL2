{
 "cells": [
  {
   "cell_type": "markdown",
   "metadata": {},
   "source": [
    "# Sytem equilibration in NAND"
   ]
  },
  {
   "cell_type": "markdown",
   "metadata": {},
   "source": [
    "## Melting of lipid tails"
   ]
  },
  {
   "cell_type": "markdown",
   "metadata": {},
   "source": [
    "### Step 1:\n",
    "Change your current directory to Equilibration/Step1."
   ]
  },
  {
   "cell_type": "markdown",
   "metadata": {},
   "source": [
    "### Step 2\n",
    "Open the script file \"bclxl_getcnst_S1.tcl\" in a text editor. In this file, we are going to set the beta value of lipid tails to 0, while setting the beta value of all others to 1, thus telling NAMD which atoms to restrain."
   ]
  },
  {
   "cell_type": "markdown",
   "metadata": {},
   "source": [
    "### Step 3:\n",
    "Run the script getcnst_S1.tcl and produce a log file by typing the following commands in the terminal: \n",
    "\n",
    "vmd -dispdev text -e getcnst_S1.tcl > getcnst_S1.log \n",
    "\n",
    "bclxl_S1.cnst, which is formatted as a PDB file, is generated. You can load bxlxl.psf file and add the cnst file you generated just now in VMD. Use the default line representation and color it by beta to confirm that\n",
    "you have set the beta values correctly."
   ]
  },
  {
   "cell_type": "markdown",
   "metadata": {},
   "source": [
    "### Step 4:\n",
    "Open the configuration file bclxl_S1.conf in a text editor and go to\n",
    "the Force Field Parameter File section. Multiple parameter files are\n",
    "listed here. These files will be invoked as force field parameters when\n",
    "simulations are run."
   ]
  },
  {
   "cell_type": "markdown",
   "metadata": {},
   "source": [
    "### Step 5:\n",
    "Go to the Periodic Boundary Conditions section. The size and center of the system need to be input here.\n",
    "\n",
    "  - cellBasisVector1 145.0 0.0 0.0\n",
    "  - cellBasisVector2 0.0 145.3 0.0\n",
    "  - cellBasisVector3 0.0 0.0 193.0\n",
    "  - cellOrigin 0.0 0.1 -17.4\n",
    "  - wrapAll on\n",
    "  - wrapNearest on\n",
    "\n",
    "Note that cellBasisVector stands for the system size vectors along the X, Y and Z directions while cellOrigin represents the center of the system. Information about the system size and center can be obtained from VMD.\n"
   ]
  },
  {
   "cell_type": "markdown",
   "metadata": {},
   "source": [
    "\n",
    "### Step 6,7,8:\n",
    "Go to Equilibration/step1 and run the TCL script \"script-SystemSize-Center.tcl\""
   ]
  },
  {
   "cell_type": "code",
   "execution_count": 4,
   "metadata": {},
   "outputs": [],
   "source": [
    "# Output of script\n",
    "\"\"\"\n",
    ">>>>> System center: <<<<<\n",
    "-0.08030123263597488 -0.11178193241357803 -36.145790100097656\n",
    ">>>>>>>>>>><<<<<<<<<<<<<<<<<\n",
    "\n",
    ">>>>> System size: <<<<<\n",
    "168.8489990234375 169.6009979248047 157.20999908447266\n",
    ">>>>>>>>>>><<<<<<<<<<<<<<<<<\n",
    "\"\"\""
   ]
  },
  {
   "cell_type": "markdown",
   "metadata": {},
   "source": [
    "### Step 9:\n",
    "In config file, go to the Constant Pressure Control section.  Notice the following line:\n",
    "\n",
    "- langevinPiston off\n",
    "\n",
    "In the lipid tails melting step, this option is turned off on account of the fact that most of the system is fixed. If turned on at this step, the simulation may fail with the following error in the log file:\n",
    "\n",
    "- ERROR: Constraint failure in RATTLE algorithm for atom ID!\n",
    "- ERROR: Constraint failure; simulation has become unstable.\n"
   ]
  },
  {
   "cell_type": "markdown",
   "metadata": {},
   "source": [
    "### Step10:\n",
    "Now move to the Constraints section. It should read as follows: \n",
    "- constraints on\n",
    "- consref ../../MembBuilding/bclxl.pdb\n",
    "- conskfile bclxl_S1.cnst\n",
    "- conskcol B\n",
    "- margin 3\n",
    "\n",
    "When running a simulation, constraints work in terms of the conskcol B for beta-coupling here. It could also be X, Y, Z or O (occupancy). Values contained in conskfile determine which atoms should be constrained. A detailed description on the role beta-coupling plays was introduced previously."
   ]
  },
  {
   "cell_type": "markdown",
   "metadata": {},
   "source": [
    "### Step11:\n",
    "Go to the last section, i.e., EXECUTION SCRIPT. It reads:\n",
    "- minimize 2000\n",
    "- reinitvels 310\n",
    "- run 500000\n",
    "\n",
    "This means NAMD will run 2000 steps of minimization first and then reset the velocities according to the chosen system temperature of 310 K, followed by a 500000-step equilibration. Each step takes 2 fs, making the\n",
    "total 1 ns for equilibration."
   ]
  },
  {
   "cell_type": "markdown",
   "metadata": {},
   "source": [
    "### Step 12:\n",
    "Type the following command in the terminal to run the simulation on your own computer or laptop, but if possible run the simulation on a supercomputer:\n",
    "\n",
    "- namd2 bclxl_S1.conf > bclxl_S1.log &"
   ]
  }
 ],
 "metadata": {
  "interpreter": {
   "hash": "31f2aee4e71d21fbe5cf8b01ff0e069b9275f58929596ceb00d14d90e3e16cd6"
  },
  "kernelspec": {
   "display_name": "Python 3.8.10 64-bit",
   "language": "python",
   "name": "python3"
  },
  "language_info": {
   "codemirror_mode": {
    "name": "ipython",
    "version": 3
   },
   "file_extension": ".py",
   "mimetype": "text/x-python",
   "name": "python",
   "nbconvert_exporter": "python",
   "pygments_lexer": "ipython3",
   "version": "3.8.10"
  },
  "orig_nbformat": 4
 },
 "nbformat": 4,
 "nbformat_minor": 2
}
